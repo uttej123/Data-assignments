{
 "cells": [
  {
   "cell_type": "code",
   "execution_count": 66,
   "id": "db6790db",
   "metadata": {
    "ExecuteTime": {
     "end_time": "2023-04-22T18:26:29.648036Z",
     "start_time": "2023-04-22T18:26:29.624922Z"
    }
   },
   "outputs": [
    {
     "ename": "ModuleNotFoundError",
     "evalue": "No module named 'keras'",
     "output_type": "error",
     "traceback": [
      "\u001b[0;31m---------------------------------------------------------------------------\u001b[0m",
      "\u001b[0;31mModuleNotFoundError\u001b[0m                       Traceback (most recent call last)",
      "Input \u001b[0;32mIn [66]\u001b[0m, in \u001b[0;36m<cell line: 4>\u001b[0;34m()\u001b[0m\n\u001b[1;32m      2\u001b[0m \u001b[38;5;28;01mimport\u001b[39;00m \u001b[38;5;21;01mnumpy\u001b[39;00m \u001b[38;5;28;01mas\u001b[39;00m \u001b[38;5;21;01mnp\u001b[39;00m\n\u001b[1;32m      3\u001b[0m \u001b[38;5;28;01mimport\u001b[39;00m \u001b[38;5;21;01mmatplotlib\u001b[39;00m\u001b[38;5;21;01m.\u001b[39;00m\u001b[38;5;21;01mpyplot\u001b[39;00m \u001b[38;5;28;01mas\u001b[39;00m \u001b[38;5;21;01mplt\u001b[39;00m\n\u001b[0;32m----> 4\u001b[0m \u001b[38;5;28;01mimport\u001b[39;00m \u001b[38;5;21;01mkeras\u001b[39;00m \u001b[38;5;28;01mas\u001b[39;00m \u001b[38;5;21;01mk\u001b[39;00m \n\u001b[1;32m      5\u001b[0m \u001b[38;5;28;01mfrom\u001b[39;00m \u001b[38;5;21;01msklearn\u001b[39;00m \u001b[38;5;28;01mimport\u001b[39;00m preprocessing\n\u001b[1;32m      6\u001b[0m \u001b[38;5;28;01mfrom\u001b[39;00m \u001b[38;5;21;01msklearn\u001b[39;00m\u001b[38;5;21;01m.\u001b[39;00m\u001b[38;5;21;01mpreprocessing\u001b[39;00m \u001b[38;5;28;01mimport\u001b[39;00m StandardScaler\n",
      "\u001b[0;31mModuleNotFoundError\u001b[0m: No module named 'keras'"
     ]
    }
   ],
   "source": [
    "import pandas as pd\n",
    "import numpy as np\n",
    "import matplotlib.pyplot as plt\n",
    "import keras as k \n",
    "from sklearn import preprocessing\n",
    "from sklearn.preprocessing import StandardScaler "
   ]
  },
  {
   "cell_type": "code",
   "execution_count": null,
   "id": "c57f94d7",
   "metadata": {
    "ExecuteTime": {
     "end_time": "2023-04-22T18:26:29.650863Z",
     "start_time": "2023-04-22T18:26:29.650857Z"
    }
   },
   "outputs": [],
   "source": [
    "data=pd.read_csv(\"forestfires.csv\")\n",
    "data "
   ]
  },
  {
   "cell_type": "code",
   "execution_count": null,
   "id": "9baf83d8",
   "metadata": {
    "ExecuteTime": {
     "end_time": "2023-04-22T18:26:29.651387Z",
     "start_time": "2023-04-22T18:26:29.651380Z"
    }
   },
   "outputs": [],
   "source": [
    "pd.set_option('display.max_columns',None)\n",
    "data "
   ]
  },
  {
   "cell_type": "code",
   "execution_count": null,
   "id": "289fce8a",
   "metadata": {
    "ExecuteTime": {
     "end_time": "2023-04-22T18:26:29.652293Z",
     "start_time": "2023-04-22T18:26:29.652286Z"
    }
   },
   "outputs": [],
   "source": [
    "data.describe()"
   ]
  },
  {
   "cell_type": "code",
   "execution_count": null,
   "id": "6d96aab9",
   "metadata": {
    "ExecuteTime": {
     "end_time": "2023-04-22T18:26:29.653280Z",
     "start_time": "2023-04-22T18:26:29.653271Z"
    }
   },
   "outputs": [],
   "source": [
    "data.corr()"
   ]
  },
  {
   "cell_type": "code",
   "execution_count": null,
   "id": "130488b0",
   "metadata": {
    "ExecuteTime": {
     "end_time": "2023-04-22T18:26:29.654365Z",
     "start_time": "2023-04-22T18:26:29.654359Z"
    }
   },
   "outputs": [],
   "source": [
    "plt.hist(data['area'])\n",
    "plt.show()"
   ]
  },
  {
   "cell_type": "code",
   "execution_count": null,
   "id": "13d9d6e5",
   "metadata": {
    "ExecuteTime": {
     "end_time": "2023-04-22T18:26:29.655141Z",
     "start_time": "2023-04-22T18:26:29.655135Z"
    }
   },
   "outputs": [],
   "source": [
    "data.hist()"
   ]
  },
  {
   "cell_type": "code",
   "execution_count": null,
   "id": "5ac012a7",
   "metadata": {
    "ExecuteTime": {
     "end_time": "2023-04-22T18:26:29.655833Z",
     "start_time": "2023-04-22T18:26:29.655827Z"
    }
   },
   "outputs": [],
   "source": [
    "data.boxplot()"
   ]
  },
  {
   "cell_type": "code",
   "execution_count": null,
   "id": "f6f13754",
   "metadata": {
    "ExecuteTime": {
     "end_time": "2023-04-22T18:26:29.656910Z",
     "start_time": "2023-04-22T18:26:29.656901Z"
    }
   },
   "outputs": [],
   "source": [
    "label_encoder = preprocessing.LabelEncoder()"
   ]
  },
  {
   "cell_type": "code",
   "execution_count": null,
   "id": "37737fc4",
   "metadata": {
    "ExecuteTime": {
     "end_time": "2023-04-22T18:26:29.657771Z",
     "start_time": "2023-04-22T18:26:29.657760Z"
    }
   },
   "outputs": [],
   "source": [
    "data['size_category']=label_encoder.fit_transform(data['size_category'])\n",
    "data "
   ]
  },
  {
   "cell_type": "code",
   "execution_count": null,
   "id": "2bd7327e",
   "metadata": {
    "ExecuteTime": {
     "end_time": "2023-04-22T18:26:29.658441Z",
     "start_time": "2023-04-22T18:26:29.658435Z"
    }
   },
   "outputs": [],
   "source": [
    "data1=data.drop(['month','day'],axis=1)\n",
    "data1 "
   ]
  },
  {
   "cell_type": "code",
   "execution_count": null,
   "id": "3e951cbe",
   "metadata": {
    "ExecuteTime": {
     "end_time": "2023-04-22T18:26:29.659093Z",
     "start_time": "2023-04-22T18:26:29.659087Z"
    }
   },
   "outputs": [],
   "source": [
    "X = data1.iloc[:,0:28]\n",
    "Y = data1['size_category'] "
   ]
  },
  {
   "cell_type": "code",
   "execution_count": null,
   "id": "6cf1e0fd",
   "metadata": {
    "ExecuteTime": {
     "end_time": "2023-04-22T18:26:29.660759Z",
     "start_time": "2023-04-22T18:26:29.660745Z"
    }
   },
   "outputs": [],
   "source": [
    "X "
   ]
  },
  {
   "cell_type": "code",
   "execution_count": null,
   "id": "b244f849",
   "metadata": {
    "ExecuteTime": {
     "end_time": "2023-04-22T18:26:29.661473Z",
     "start_time": "2023-04-22T18:26:29.661466Z"
    }
   },
   "outputs": [],
   "source": [
    "Y "
   ]
  },
  {
   "cell_type": "code",
   "execution_count": null,
   "id": "c1966989",
   "metadata": {
    "ExecuteTime": {
     "end_time": "2023-04-22T18:26:29.662220Z",
     "start_time": "2023-04-22T18:26:29.662214Z"
    }
   },
   "outputs": [],
   "source": [
    "a = StandardScaler()\n",
    "a.fit(X)\n",
    "X_standardized = a.transform(X) "
   ]
  },
  {
   "cell_type": "code",
   "execution_count": null,
   "id": "3694b56e",
   "metadata": {
    "ExecuteTime": {
     "end_time": "2023-04-22T18:26:29.662708Z",
     "start_time": "2023-04-22T18:26:29.662703Z"
    }
   },
   "outputs": [],
   "source": [
    "X_standardized "
   ]
  },
  {
   "cell_type": "code",
   "execution_count": null,
   "id": "85dee4d3",
   "metadata": {
    "ExecuteTime": {
     "end_time": "2023-04-22T18:26:29.663121Z",
     "start_time": "2023-04-22T18:26:29.663116Z"
    }
   },
   "outputs": [],
   "source": [
    "pd.DataFrame(X_standardized).describe() "
   ]
  },
  {
   "cell_type": "code",
   "execution_count": null,
   "id": "dcb0e7c2",
   "metadata": {
    "ExecuteTime": {
     "end_time": "2023-04-22T18:26:29.663932Z",
     "start_time": "2023-04-22T18:26:29.663920Z"
    }
   },
   "outputs": [],
   "source": [
    "from sklearn.model_selection import GridSearchCV, KFold\n",
    "from keras.models import Sequential\n",
    "from keras.layers import Dense\n",
    "from keras.wrappers.scikit_learn import KerasClassifier\n",
    "from tensorflow.keras.optimizers import Adam "
   ]
  },
  {
   "cell_type": "code",
   "execution_count": null,
   "id": "c7de8827",
   "metadata": {
    "ExecuteTime": {
     "end_time": "2023-04-22T18:26:29.664604Z",
     "start_time": "2023-04-22T18:26:29.664597Z"
    }
   },
   "outputs": [],
   "source": [
    "from sklearn.model_selection import GridSearchCV, KFold\n",
    "from keras.models import Sequential\n",
    "from keras.layers import Dense\n",
    "from keras.wrappers.scikit_learn import KerasClassifier\n",
    "from tensorflow.keras.optimizers import Adam "
   ]
  },
  {
   "cell_type": "code",
   "execution_count": null,
   "id": "90500e16",
   "metadata": {
    "ExecuteTime": {
     "end_time": "2023-04-22T18:26:29.665276Z",
     "start_time": "2023-04-22T18:26:29.665270Z"
    }
   },
   "outputs": [],
   "source": [
    "def create_model():\n",
    "    model = Sequential()\n",
    "    model.add(Dense(12, input_dim=28, kernel_initializer='random_uniform', activation='relu')) \n",
    "    model.add(Dense(8, kernel_initializer='random_uniform', activation='relu')) \n",
    "    model.add(Dense(1, kernel_initializer='random_uniform', activation='sigmoid')) \n",
    "    \n",
    "    adam=Adam(lr=0.01)\n",
    "    model.compile(loss='binary_crossentropy', optimizer=adam, metrics=['accuracy'])\n",
    "    return model "
   ]
  },
  {
   "cell_type": "code",
   "execution_count": null,
   "id": "b0e374db",
   "metadata": {
    "ExecuteTime": {
     "end_time": "2023-04-22T18:26:29.666057Z",
     "start_time": "2023-04-22T18:26:29.666052Z"
    }
   },
   "outputs": [],
   "source": [
    "model = KerasClassifier(build_fn = create_model,verbose = 0)\n",
    "batch_size = [10,20,40]\n",
    "epochs = [10,50,100]\n",
    "param_grid = dict(batch_size = batch_size,epochs = epochs)\n",
    "grid = GridSearchCV(estimator = model,param_grid = param_grid,cv = KFold(),verbose = 10)\n",
    "grid_result = grid.fit(X_standardized,Y) "
   ]
  },
  {
   "cell_type": "code",
   "execution_count": null,
   "id": "c8b83bfc",
   "metadata": {
    "ExecuteTime": {
     "end_time": "2023-04-22T18:26:29.666603Z",
     "start_time": "2023-04-22T18:26:29.666597Z"
    }
   },
   "outputs": [],
   "source": [
    "print('Best : {}, using {}'.format(grid_result.best_score_,grid_result.best_params_))\n",
    "means = grid_result.cv_results_['mean_test_score']\n",
    "stds = grid_result.cv_results_['std_test_score']\n",
    "params = grid_result.cv_results_['params']\n",
    "for mean, stdev, param in zip(means, stds, params):\n",
    "  print('{},{} with: {}'.format(mean, stdev, param)) "
   ]
  },
  {
   "cell_type": "code",
   "execution_count": null,
   "id": "307db4b4",
   "metadata": {
    "ExecuteTime": {
     "end_time": "2023-04-22T18:26:29.667284Z",
     "start_time": "2023-04-22T18:26:29.667279Z"
    }
   },
   "outputs": [],
   "source": [
    "from keras.layers import Dropout\n"
   ]
  },
  {
   "cell_type": "code",
   "execution_count": null,
   "id": "dfbf8884",
   "metadata": {
    "ExecuteTime": {
     "end_time": "2023-04-22T18:26:29.668290Z",
     "start_time": "2023-04-22T18:26:29.668285Z"
    }
   },
   "outputs": [],
   "source": [
    "def create_model(learning_rate,dropout_rate):\n",
    "    model = Sequential()\n",
    "    model.add(Dense(8,input_dim = 28,kernel_initializer = 'normal',activation = 'relu'))\n",
    "    model.add(Dropout(dropout_rate))\n",
    "    model.add(Dense(4,input_dim = 28,kernel_initializer = 'normal',activation = 'relu'))\n",
    "    model.add(Dropout(dropout_rate))\n",
    "    model.add(Dense(1,activation = 'sigmoid'))\n",
    "    \n",
    "    adam = Adam(lr = learning_rate)\n",
    "    model.compile(loss = 'binary_crossentropy',optimizer = adam,metrics = ['accuracy'])\n",
    "    return model\n",
    "\n",
    "\n",
    "model = KerasClassifier(build_fn = create_model,verbose = 0,batch_size = 40,epochs = 10)\n",
    "learning_rate = [0.001,0.01,0.1]\n",
    "dropout_rate = [0.0,0.1,0.2] \n",
    "param_grids = dict(learning_rate = learning_rate,dropout_rate = dropout_rate)\n",
    "\n",
    "grid = GridSearchCV(estimator = model,param_grid = param_grids,cv = KFold(),verbose = 10)\n",
    "grid_result = grid.fit(X_standardized,Y) \n",
    " "
   ]
  },
  {
   "cell_type": "code",
   "execution_count": null,
   "id": "25c448d3",
   "metadata": {
    "ExecuteTime": {
     "end_time": "2023-04-22T18:26:29.670297Z",
     "start_time": "2023-04-22T18:26:29.670272Z"
    }
   },
   "outputs": [],
   "source": [
    "print('Best : {}, using {}'.format(grid_result.best_score_,grid_result.best_params_))\n",
    "means = grid_result.cv_results_['mean_test_score']\n",
    "stds = grid_result.cv_results_['std_test_score']\n",
    "params = grid_result.cv_results_['params']\n",
    "for mean, stdev, param in zip(means, stds, params):\n",
    "  print('{},{} with: {}'.format(mean, stdev, param))"
   ]
  },
  {
   "cell_type": "code",
   "execution_count": null,
   "id": "2d2b3149",
   "metadata": {
    "ExecuteTime": {
     "end_time": "2023-04-22T18:26:29.673759Z",
     "start_time": "2023-04-22T18:26:29.673737Z"
    }
   },
   "outputs": [],
   "source": [
    "def create_model(activation_function,init):\n",
    "    model = Sequential()\n",
    "    model.add(Dense(8,input_dim = 28,kernel_initializer = init,activation = activation_function))\n",
    "    model.add(Dropout(0.1))\n",
    "    model.add(Dense(4,input_dim = 28,kernel_initializer = init,activation = activation_function))\n",
    "    model.add(Dropout(0.1))\n",
    "    model.add(Dense(1,activation = 'sigmoid'))\n",
    "    \n",
    "    adam = Adam(lr = 0.001)\n",
    "    model.compile(loss = 'binary_crossentropy',optimizer = adam,metrics = ['accuracy'])\n",
    "    return model\n",
    "\n",
    "model = KerasClassifier(build_fn = create_model,verbose = 0,batch_size = 40,epochs = 10)\n",
    "\n",
    "activation_function = ['softmax','relu','tanh','linear']\n",
    "init = ['uniform','normal','zero']\n",
    "\n",
    "param_grids = dict(activation_function = activation_function,init = init)\n",
    "\n",
    "\n",
    "grid = GridSearchCV(estimator = model,param_grid = param_grids,cv = KFold(),verbose = 10)\n",
    "grid_result = grid.fit(X_standardized,Y) \n",
    "\n"
   ]
  },
  {
   "cell_type": "code",
   "execution_count": null,
   "id": "d8dce578",
   "metadata": {
    "ExecuteTime": {
     "end_time": "2023-04-22T18:26:29.675436Z",
     "start_time": "2023-04-22T18:26:29.675424Z"
    }
   },
   "outputs": [],
   "source": [
    "print('Best : {}, using {}'.format(grid_result.best_score_,grid_result.best_params_))\n",
    "means = grid_result.cv_results_['mean_test_score']\n",
    "stds = grid_result.cv_results_['std_test_score']\n",
    "params = grid_result.cv_results_['params']\n",
    "for mean, stdev, param in zip(means, stds, params):\n",
    "  print('{},{} with: {}'.format(mean, stdev, param)) "
   ]
  },
  {
   "cell_type": "code",
   "execution_count": null,
   "id": "5e828676",
   "metadata": {
    "ExecuteTime": {
     "end_time": "2023-04-22T18:26:29.677320Z",
     "start_time": "2023-04-22T18:26:29.677301Z"
    }
   },
   "outputs": [],
   "source": [
    "def create_model(neuron1,neuron2):\n",
    "    model = Sequential()\n",
    "    model.add(Dense(neuron1,input_dim = 28,kernel_initializer = 'uniform',activation = 'tanh'))\n",
    "    model.add(Dropout(0.2))\n",
    "    model.add(Dense(neuron2,input_dim = neuron1,kernel_initializer = 'uniform',activation = 'tanh'))\n",
    "    model.add(Dropout(0.1))\n",
    "    model.add(Dense(1,activation = 'sigmoid'))\n",
    "    \n",
    "    adam = Adam(lr = 0.001)\n",
    "    model.compile(loss = 'binary_crossentropy',optimizer = adam,metrics = ['accuracy'])\n",
    "    return model\n",
    "\n",
    "\n",
    "\n",
    "model = KerasClassifier(build_fn = create_model,verbose = 0,batch_size = 40,epochs = 10)\n",
    "\n",
    "\n",
    "\n",
    "neuron1 = [4,8,16]\n",
    "neuron2 = [2,4,8]\n",
    "\n",
    "\n",
    "\n",
    "param_grids = dict(neuron1 = neuron1,neuron2 = neuron2)\n",
    "\n",
    "\n",
    "grid = GridSearchCV(estimator = model,param_grid = param_grids,cv = KFold(),verbose = 10)\n",
    "grid_result = grid.fit(X_standardized,Y) \n"
   ]
  },
  {
   "cell_type": "code",
   "execution_count": null,
   "id": "d884d984",
   "metadata": {
    "ExecuteTime": {
     "end_time": "2023-04-22T18:26:29.679653Z",
     "start_time": "2023-04-22T18:26:29.679646Z"
    }
   },
   "outputs": [],
   "source": [
    "print('Best : {}, using {}'.format(grid_result.best_score_,grid_result.best_params_))\n",
    "means = grid_result.cv_results_['mean_test_score']\n",
    "stds = grid_result.cv_results_['std_test_score']\n",
    "params = grid_result.cv_results_['params']\n",
    "for mean, stdev, param in zip(means, stds, params):\n",
    "  print('{},{} with: {}'.format(mean, stdev, param)) "
   ]
  },
  {
   "cell_type": "code",
   "execution_count": null,
   "id": "b9c874de",
   "metadata": {
    "ExecuteTime": {
     "end_time": "2023-04-22T18:26:29.681174Z",
     "start_time": "2023-04-22T18:26:29.681147Z"
    }
   },
   "outputs": [],
   "source": [
    "from sklearn.metrics import classification_report, accuracy_score\n",
    "\n",
    "\n",
    "\n",
    "def create_model():\n",
    "    model = Sequential()\n",
    "    model.add(Dense(4,input_dim = 28,kernel_initializer = 'normal',activation = 'tanh'))\n",
    "    model.add(Dropout(0.0))\n",
    "    model.add(Dense(8,input_dim = 28,kernel_initializer = 'normal',activation = 'tanh'))\n",
    "    model.add(Dropout(0.0))\n",
    "    model.add(Dense(1,activation = 'tanh'))\n",
    "    \n",
    "    adam = Adam(lr = 0.1) \n",
    "    model.compile(loss = 'binary_crossentropy',optimizer = adam,metrics = ['accuracy'])\n",
    "    return model\n",
    "\n",
    "\n",
    "\n",
    "model = KerasClassifier(build_fn = create_model,verbose = 0,batch_size = 10,epochs = 50)\n",
    "\n",
    "\n",
    "\n",
    "model.fit(X_standardized,Y)\n",
    "\n",
    "\n",
    "\n",
    "Y_predict = model.predict(X_standardized)\n",
    "\n",
    "\n",
    "print(accuracy_score(Y,Y_predict)) "
   ]
  },
  {
   "cell_type": "code",
   "execution_count": null,
   "id": "672b6dea",
   "metadata": {},
   "outputs": [],
   "source": []
  }
 ],
 "metadata": {
  "kernelspec": {
   "display_name": "Python 3 (ipykernel)",
   "language": "python",
   "name": "python3"
  },
  "language_info": {
   "codemirror_mode": {
    "name": "ipython",
    "version": 3
   },
   "file_extension": ".py",
   "mimetype": "text/x-python",
   "name": "python",
   "nbconvert_exporter": "python",
   "pygments_lexer": "ipython3",
   "version": "3.9.12"
  }
 },
 "nbformat": 4,
 "nbformat_minor": 5
}
