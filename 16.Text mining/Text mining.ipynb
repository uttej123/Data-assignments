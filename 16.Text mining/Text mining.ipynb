{
 "cells": [
  {
   "cell_type": "code",
   "execution_count": 58,
   "id": "9360067f",
   "metadata": {
    "ExecuteTime": {
     "end_time": "2023-04-22T17:54:57.195794Z",
     "start_time": "2023-04-22T17:54:57.184068Z"
    }
   },
   "outputs": [
    {
     "ename": "ModuleNotFoundError",
     "evalue": "No module named 'wordcloud'",
     "output_type": "error",
     "traceback": [
      "\u001b[0;31m---------------------------------------------------------------------------\u001b[0m",
      "\u001b[0;31mModuleNotFoundError\u001b[0m                       Traceback (most recent call last)",
      "Input \u001b[0;32mIn [58]\u001b[0m, in \u001b[0;36m<cell line: 13>\u001b[0;34m()\u001b[0m\n\u001b[1;32m     11\u001b[0m \u001b[38;5;28;01mfrom\u001b[39;00m \u001b[38;5;21;01mnltk\u001b[39;00m\u001b[38;5;21;01m.\u001b[39;00m\u001b[38;5;21;01mtokenize\u001b[39;00m \u001b[38;5;28;01mimport\u001b[39;00m word_tokenize\n\u001b[1;32m     12\u001b[0m \u001b[38;5;28;01mfrom\u001b[39;00m \u001b[38;5;21;01mnltk\u001b[39;00m\u001b[38;5;21;01m.\u001b[39;00m\u001b[38;5;21;01mstem\u001b[39;00m \u001b[38;5;28;01mimport\u001b[39;00m PorterStemmer\n\u001b[0;32m---> 13\u001b[0m \u001b[38;5;28;01mfrom\u001b[39;00m \u001b[38;5;21;01mwordcloud\u001b[39;00m \u001b[38;5;28;01mimport\u001b[39;00m WordCloud, STOPWORDS\n\u001b[1;32m     14\u001b[0m \u001b[38;5;28;01mfrom\u001b[39;00m \u001b[38;5;21;01msklearn\u001b[39;00m\u001b[38;5;21;01m.\u001b[39;00m\u001b[38;5;21;01mfeature_extraction\u001b[39;00m\u001b[38;5;21;01m.\u001b[39;00m\u001b[38;5;21;01mtext\u001b[39;00m \u001b[38;5;28;01mimport\u001b[39;00m CountVectorizer\n\u001b[1;32m     15\u001b[0m \u001b[38;5;28;01mfrom\u001b[39;00m \u001b[38;5;21;01msklearn\u001b[39;00m\u001b[38;5;21;01m.\u001b[39;00m\u001b[38;5;21;01mfeature_extraction\u001b[39;00m\u001b[38;5;21;01m.\u001b[39;00m\u001b[38;5;21;01mtext\u001b[39;00m \u001b[38;5;28;01mimport\u001b[39;00m TfidfVectorizer\n",
      "\u001b[0;31mModuleNotFoundError\u001b[0m: No module named 'wordcloud'"
     ]
    }
   ],
   "source": [
    "import pandas as pd \n",
    "import numpy as np\n",
    "import seaborn as sns\n",
    "import matplotlib.pyplot as plt \n",
    "from matplotlib.pyplot import imread\n",
    "import string \n",
    "import spacy \n",
    "import nltk \n",
    "from nltk import tokenize\n",
    "from nltk.corpus import stopwords\n",
    "from nltk.tokenize import word_tokenize\n",
    "from nltk.stem import PorterStemmer\n",
    "from wordcloud import WordCloud, STOPWORDS\n",
    "from sklearn.feature_extraction.text import CountVectorizer\n",
    "from sklearn.feature_extraction.text import TfidfVectorizer\n",
    "\n",
    "%matplotlib inline"
   ]
  },
  {
   "cell_type": "code",
   "execution_count": null,
   "id": "c4131bb3",
   "metadata": {
    "ExecuteTime": {
     "end_time": "2023-04-22T17:54:57.198186Z",
     "start_time": "2023-04-22T17:54:57.198180Z"
    }
   },
   "outputs": [],
   "source": [
    "data = pd.read_csv(\"Elon_musk.csv\", encoding='latin1') \n",
    "data "
   ]
  },
  {
   "cell_type": "code",
   "execution_count": null,
   "id": "0e2076de",
   "metadata": {
    "ExecuteTime": {
     "end_time": "2023-04-22T17:54:57.198869Z",
     "start_time": "2023-04-22T17:54:57.198863Z"
    }
   },
   "outputs": [],
   "source": [
    "data = [Text.strip() for Text in data.Text] \n",
    "data = [Text for Text in data if Text] \n",
    "data "
   ]
  },
  {
   "cell_type": "code",
   "execution_count": null,
   "id": "145c4570",
   "metadata": {
    "ExecuteTime": {
     "end_time": "2023-04-22T17:54:57.199758Z",
     "start_time": "2023-04-22T17:54:57.199752Z"
    }
   },
   "outputs": [],
   "source": [
    "nltk.download('punkt')\n",
    "\n",
    "sentences = tokenize.sent_tokenize(\" \".join(data)) \n",
    "sentences "
   ]
  },
  {
   "cell_type": "code",
   "execution_count": null,
   "id": "d3f9cf52",
   "metadata": {
    "ExecuteTime": {
     "end_time": "2023-04-22T17:50:35.563497Z",
     "start_time": "2023-04-22T17:50:35.563490Z"
    }
   },
   "outputs": [],
   "source": []
  },
  {
   "cell_type": "code",
   "execution_count": null,
   "id": "b2916f2d",
   "metadata": {
    "ExecuteTime": {
     "end_time": "2023-04-22T17:54:57.200512Z",
     "start_time": "2023-04-22T17:54:57.200507Z"
    }
   },
   "outputs": [],
   "source": [
    "afinn = pd.read_csv(\"Afinn.csv\", sep=',', encoding='latin-1')\n",
    "afinn "
   ]
  },
  {
   "cell_type": "code",
   "execution_count": null,
   "id": "fd25f7fe",
   "metadata": {
    "ExecuteTime": {
     "end_time": "2023-04-22T17:54:57.202436Z",
     "start_time": "2023-04-22T17:54:57.202429Z"
    }
   },
   "outputs": [],
   "source": [
    "nlp = spacy.load('en_core_web_sm')\n",
    "sentiment_lexicon = affinity_scores\n",
    "\n",
    "def calculate_sentiment(text: str = None):\n",
    "    sent_score = 0\n",
    "    if text:\n",
    "        sentence = nlp(text)\n",
    "        for word in sentence:\n",
    "            sent_score += sentiment_lexicon.get(word.lemma_, 0)\n",
    "    return sent_score "
   ]
  },
  {
   "cell_type": "code",
   "execution_count": null,
   "id": "6f079931",
   "metadata": {
    "ExecuteTime": {
     "end_time": "2023-04-22T17:54:57.203352Z",
     "start_time": "2023-04-22T17:54:57.203346Z"
    }
   },
   "outputs": [],
   "source": [
    "calculate_sentiment(text = 'admiring')"
   ]
  },
  {
   "cell_type": "code",
   "execution_count": null,
   "id": "b790d8a6",
   "metadata": {
    "ExecuteTime": {
     "end_time": "2023-04-22T17:54:57.203820Z",
     "start_time": "2023-04-22T17:54:57.203814Z"
    }
   },
   "outputs": [],
   "source": [
    "sent_df['sentiment_value'] = sent_df['sentence'].apply(calculate_sentiment) \n",
    "sent_df "
   ]
  },
  {
   "cell_type": "code",
   "execution_count": null,
   "id": "f6931b44",
   "metadata": {
    "ExecuteTime": {
     "end_time": "2023-04-22T17:54:57.204505Z",
     "start_time": "2023-04-22T17:54:57.204500Z"
    }
   },
   "outputs": [],
   "source": [
    "sent_df['word_count'] = sent_df['sentence'].str.split().apply(len)\n",
    "sent_df "
   ]
  },
  {
   "cell_type": "code",
   "execution_count": null,
   "id": "77dac811",
   "metadata": {
    "ExecuteTime": {
     "end_time": "2023-04-22T17:54:57.204974Z",
     "start_time": "2023-04-22T17:54:57.204967Z"
    }
   },
   "outputs": [],
   "source": [
    "sent_df['sentiment_value'].describe()  "
   ]
  },
  {
   "cell_type": "code",
   "execution_count": null,
   "id": "f212b988",
   "metadata": {
    "ExecuteTime": {
     "end_time": "2023-04-22T17:54:57.205417Z",
     "start_time": "2023-04-22T17:54:57.205412Z"
    }
   },
   "outputs": [],
   "source": [
    "sent_df[sent_df['sentiment_value']<=0].head()"
   ]
  },
  {
   "cell_type": "code",
   "execution_count": null,
   "id": "16bbe18e",
   "metadata": {
    "ExecuteTime": {
     "end_time": "2023-04-22T17:54:57.205933Z",
     "start_time": "2023-04-22T17:54:57.205926Z"
    }
   },
   "outputs": [],
   "source": [
    "sent_df[sent_df['sentiment_value']>=10].head() "
   ]
  },
  {
   "cell_type": "code",
   "execution_count": null,
   "id": "39fadd9d",
   "metadata": {
    "ExecuteTime": {
     "end_time": "2023-04-22T17:54:57.206757Z",
     "start_time": "2023-04-22T17:54:57.206750Z"
    }
   },
   "outputs": [],
   "source": [
    "sent_df['index']=range(0,len(sent_df))\n",
    "sent_df "
   ]
  },
  {
   "cell_type": "code",
   "execution_count": null,
   "id": "dbe4d88d",
   "metadata": {
    "ExecuteTime": {
     "end_time": "2023-04-22T17:54:57.207851Z",
     "start_time": "2023-04-22T17:54:57.207844Z"
    }
   },
   "outputs": [],
   "source": [
    "sns.distplot(sent_df['sentiment_value'])\n",
    "plt.show() "
   ]
  },
  {
   "cell_type": "code",
   "execution_count": null,
   "id": "02dc4425",
   "metadata": {
    "ExecuteTime": {
     "end_time": "2023-04-22T17:54:57.209394Z",
     "start_time": "2023-04-22T17:54:57.209387Z"
    }
   },
   "outputs": [],
   "source": [
    "plt.figure(figsize=(15, 10))\n",
    "sns.lineplot(y='sentiment_value',x='index',data=sent_df) "
   ]
  },
  {
   "cell_type": "code",
   "execution_count": null,
   "id": "ccd4f877",
   "metadata": {
    "ExecuteTime": {
     "end_time": "2023-04-22T17:54:57.210563Z",
     "start_time": "2023-04-22T17:54:57.210558Z"
    }
   },
   "outputs": [],
   "source": [
    "sent_df.plot.scatter(x='word_count', y='sentiment_value', figsize=(8,8), title='Sentence sentiment value to sentence word count')"
   ]
  },
  {
   "cell_type": "code",
   "execution_count": null,
   "id": "3321fa39",
   "metadata": {
    "ExecuteTime": {
     "end_time": "2023-04-22T17:54:57.211329Z",
     "start_time": "2023-04-22T17:54:57.211321Z"
    }
   },
   "outputs": [],
   "source": [
    "data_text = ' '.join(data)\n",
    "data_text "
   ]
  },
  {
   "cell_type": "code",
   "execution_count": null,
   "id": "5a1ac115",
   "metadata": {
    "ExecuteTime": {
     "end_time": "2023-04-22T17:54:57.211872Z",
     "start_time": "2023-04-22T17:54:57.211867Z"
    }
   },
   "outputs": [],
   "source": [
    "no_punc_text = data_text.translate(str.maketrans('', '', string.punctuation)) \n",
    "no_punc_text "
   ]
  },
  {
   "cell_type": "code",
   "execution_count": null,
   "id": "a7db1d91",
   "metadata": {
    "ExecuteTime": {
     "end_time": "2023-04-22T17:54:57.212366Z",
     "start_time": "2023-04-22T17:54:57.212361Z"
    }
   },
   "outputs": [],
   "source": [
    "text_tokens = word_tokenize(no_punc_text)\n",
    "text_tokens "
   ]
  },
  {
   "cell_type": "code",
   "execution_count": null,
   "id": "f17aaa74",
   "metadata": {
    "ExecuteTime": {
     "end_time": "2023-04-22T17:54:57.212969Z",
     "start_time": "2023-04-22T17:54:57.212964Z"
    }
   },
   "outputs": [],
   "source": [
    "len(text_tokens) "
   ]
  },
  {
   "cell_type": "code",
   "execution_count": null,
   "id": "2b65ed68",
   "metadata": {
    "ExecuteTime": {
     "end_time": "2023-04-22T17:54:57.213777Z",
     "start_time": "2023-04-22T17:54:57.213771Z"
    }
   },
   "outputs": [],
   "source": [
    "nltk.download('punkt')\n",
    "nltk.download('stopwords')\n",
    "my_stop_words = stopwords.words('english')\n",
    "my_stop_words.append('the') \n",
    "no_stop_tokens = [word for word in text_tokens if not word in my_stop_words]\n",
    "no_stop_tokens "
   ]
  },
  {
   "cell_type": "code",
   "execution_count": null,
   "id": "4cd72d98",
   "metadata": {
    "ExecuteTime": {
     "end_time": "2023-04-22T17:54:57.214590Z",
     "start_time": "2023-04-22T17:54:57.214583Z"
    }
   },
   "outputs": [],
   "source": [
    "lower_words = [Text.lower() for Text in no_stop_tokens]\n",
    "lower_words "
   ]
  },
  {
   "cell_type": "code",
   "execution_count": null,
   "id": "bded8976",
   "metadata": {
    "ExecuteTime": {
     "end_time": "2023-04-22T17:54:57.215115Z",
     "start_time": "2023-04-22T17:54:57.215110Z"
    }
   },
   "outputs": [],
   "source": [
    "ps = PorterStemmer()\n",
    "stemmed_tokens = [ps.stem(word) for word in lower_words]\n",
    "stemmed_tokens "
   ]
  },
  {
   "cell_type": "code",
   "execution_count": null,
   "id": "3b3ea087",
   "metadata": {
    "ExecuteTime": {
     "end_time": "2023-04-22T17:54:57.215567Z",
     "start_time": "2023-04-22T17:54:57.215562Z"
    }
   },
   "outputs": [],
   "source": [
    "nlp = spacy.load('en_core_web_sm') "
   ]
  },
  {
   "cell_type": "code",
   "execution_count": null,
   "id": "669cbefa",
   "metadata": {
    "ExecuteTime": {
     "end_time": "2023-04-22T17:54:57.215983Z",
     "start_time": "2023-04-22T17:54:57.215978Z"
    }
   },
   "outputs": [],
   "source": [
    "doc = nlp(' '.join(no_stop_tokens))\n",
    "doc "
   ]
  },
  {
   "cell_type": "code",
   "execution_count": null,
   "id": "6e8c2942",
   "metadata": {
    "ExecuteTime": {
     "end_time": "2023-04-22T17:54:57.216442Z",
     "start_time": "2023-04-22T17:54:57.216437Z"
    }
   },
   "outputs": [],
   "source": [
    "lemmas = [token.lemma_ for token in doc]\n",
    "lemmas "
   ]
  },
  {
   "cell_type": "code",
   "execution_count": null,
   "id": "c3e802c3",
   "metadata": {
    "ExecuteTime": {
     "end_time": "2023-04-22T17:54:57.217052Z",
     "start_time": "2023-04-22T17:54:57.217046Z"
    }
   },
   "outputs": [],
   "source": [
    "vectorizer = CountVectorizer()\n",
    "X = vectorizer.fit_transform(lemmas) "
   ]
  },
  {
   "cell_type": "code",
   "execution_count": null,
   "id": "0e4e770f",
   "metadata": {
    "ExecuteTime": {
     "end_time": "2023-04-22T17:54:57.218198Z",
     "start_time": "2023-04-22T17:54:57.218189Z"
    }
   },
   "outputs": [],
   "source": [
    "print(vectorizer.vocabulary_) "
   ]
  },
  {
   "cell_type": "code",
   "execution_count": null,
   "id": "5187de36",
   "metadata": {
    "ExecuteTime": {
     "end_time": "2023-04-22T17:54:57.218942Z",
     "start_time": "2023-04-22T17:54:57.218936Z"
    }
   },
   "outputs": [],
   "source": [
    "print(vectorizer.get_feature_names()[0:200])\n",
    "print(X.toarray()[0:200])  "
   ]
  },
  {
   "cell_type": "code",
   "execution_count": null,
   "id": "915bed95",
   "metadata": {
    "ExecuteTime": {
     "end_time": "2023-04-22T17:54:57.219638Z",
     "start_time": "2023-04-22T17:54:57.219632Z"
    }
   },
   "outputs": [],
   "source": [
    "print(X.toarray().shape) "
   ]
  },
  {
   "cell_type": "code",
   "execution_count": null,
   "id": "eabe7ecc",
   "metadata": {
    "ExecuteTime": {
     "end_time": "2023-04-22T17:54:57.220350Z",
     "start_time": "2023-04-22T17:54:57.220345Z"
    }
   },
   "outputs": [],
   "source": [
    "vectorizer_ngram_range = CountVectorizer(analyzer='word',ngram_range=(1,3),max_features = 100)\n",
    "bow_matrix_ngram =vectorizer_ngram_range.fit_transform(data)\n",
    "bow_matrix_ngram "
   ]
  },
  {
   "cell_type": "code",
   "execution_count": null,
   "id": "61feb80b",
   "metadata": {
    "ExecuteTime": {
     "end_time": "2023-04-22T17:54:57.221550Z",
     "start_time": "2023-04-22T17:54:57.221523Z"
    }
   },
   "outputs": [],
   "source": [
    "print(vectorizer_ngram_range.get_feature_names())\n",
    "print(bow_matrix_ngram.toarray()) "
   ]
  },
  {
   "cell_type": "code",
   "execution_count": null,
   "id": "1d6d9805",
   "metadata": {
    "ExecuteTime": {
     "end_time": "2023-04-22T17:54:57.222744Z",
     "start_time": "2023-04-22T17:54:57.222738Z"
    }
   },
   "outputs": [],
   "source": [
    "vectorizer_n_gram_max_features = TfidfVectorizer(norm=\"l2\",analyzer='word', ngram_range=(1,3), max_features = 300)\n",
    "tf_idf_matrix_n_gram_max_features =vectorizer_n_gram_max_features.fit_transform(data)\n",
    "print(vectorizer_n_gram_max_features.get_feature_names())\n",
    "print(tf_idf_matrix_n_gram_max_features.toarray()) "
   ]
  },
  {
   "cell_type": "code",
   "execution_count": null,
   "id": "1de56c9a",
   "metadata": {
    "ExecuteTime": {
     "end_time": "2023-04-22T17:54:57.225995Z",
     "start_time": "2023-04-22T17:54:57.225955Z"
    }
   },
   "outputs": [],
   "source": [
    "def plot_cloud(wordcloud):\n",
    "    plt.figure(figsize=(40, 30))\n",
    "    plt.imshow(wordcloud) \n",
    "    plt.axis(\"off\"); "
   ]
  },
  {
   "cell_type": "code",
   "execution_count": null,
   "id": "adec2a6c",
   "metadata": {
    "ExecuteTime": {
     "end_time": "2023-04-22T17:54:57.227806Z",
     "start_time": "2023-04-22T17:54:57.227799Z"
    }
   },
   "outputs": [],
   "source": [
    "stopwords = STOPWORDS\n",
    "wordcloud = WordCloud(width = 3000, height = 2000, background_color='black', max_words=100,colormap='Set2',stopwords=stopwords).generate(data_text)\n",
    "plot_cloud(wordcloud) \n"
   ]
  },
  {
   "cell_type": "code",
   "execution_count": null,
   "id": "6146e7c4",
   "metadata": {},
   "outputs": [],
   "source": []
  }
 ],
 "metadata": {
  "kernelspec": {
   "display_name": "Python 3 (ipykernel)",
   "language": "python",
   "name": "python3"
  },
  "language_info": {
   "codemirror_mode": {
    "name": "ipython",
    "version": 3
   },
   "file_extension": ".py",
   "mimetype": "text/x-python",
   "name": "python",
   "nbconvert_exporter": "python",
   "pygments_lexer": "ipython3",
   "version": "3.9.12"
  }
 },
 "nbformat": 4,
 "nbformat_minor": 5
}
