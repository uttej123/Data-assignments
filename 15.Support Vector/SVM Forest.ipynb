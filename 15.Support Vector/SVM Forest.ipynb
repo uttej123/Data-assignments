{
 "cells": [
  {
   "cell_type": "code",
   "execution_count": 1,
   "id": "2ea20d8e",
   "metadata": {
    "ExecuteTime": {
     "end_time": "2023-04-20T02:08:26.300206Z",
     "start_time": "2023-04-20T02:08:25.559327Z"
    }
   },
   "outputs": [],
   "source": [
    "import pandas as pd \n",
    "import numpy as np\n",
    "import matplotlib.pyplot as plt\n",
    "from pandas.plotting import scatter_matrix"
   ]
  },
  {
   "cell_type": "code",
   "execution_count": 2,
   "id": "c7f65495",
   "metadata": {
    "ExecuteTime": {
     "end_time": "2023-04-20T02:09:02.714245Z",
     "start_time": "2023-04-20T02:09:02.645152Z"
    }
   },
   "outputs": [
    {
     "name": "stdout",
     "output_type": "stream",
     "text": [
      "Head:    month  day  FFMC   DMC     DC  ISI  temp  RH  wind  rain  ...  monthfeb  \\\n",
      "0      3    5  86.2  26.2   94.3  5.1   8.2  51   6.7   0.0  ...         0   \n",
      "1     10    2  90.6  35.4  669.1  6.7  18.0  33   0.9   0.0  ...         0   \n",
      "2     10    6  90.6  43.7  686.9  6.7  14.6  33   1.3   0.0  ...         0   \n",
      "3      3    5  91.7  33.3   77.5  9.0   8.3  97   4.0   0.2  ...         0   \n",
      "4      3    7  89.3  51.3  102.2  9.6  11.4  99   1.8   0.0  ...         0   \n",
      "\n",
      "   monthjan  monthjul  monthjun  monthmar  monthmay  monthnov  monthoct  \\\n",
      "0         0         0         0         1         0         0         0   \n",
      "1         0         0         0         0         0         0         1   \n",
      "2         0         0         0         0         0         0         1   \n",
      "3         0         0         0         1         0         0         0   \n",
      "4         0         0         0         1         0         0         0   \n",
      "\n",
      "   monthsep  size_category  \n",
      "0         0          small  \n",
      "1         0          small  \n",
      "2         0          small  \n",
      "3         0          small  \n",
      "4         0          small  \n",
      "\n",
      "[5 rows x 31 columns]\n"
     ]
    }
   ],
   "source": [
    "dataframe = pd.read_csv(\"forestfires.csv\")\n",
    "dataframe.month.replace(('jan','feb','mar','apr','may','jun','jul','aug','sep','oct','nov','dec'),(1,2,3,4,5,6,7,8,9,10,11,12), inplace=True)\n",
    "dataframe.day.replace(('mon','tue','wed','thu','fri','sat','sun'),(1,2,3,4,5,6,7), inplace=True)\n",
    "print(\"Head:\", dataframe.head())"
   ]
  },
  {
   "cell_type": "code",
   "execution_count": 3,
   "id": "bc385d39",
   "metadata": {
    "ExecuteTime": {
     "end_time": "2023-04-20T02:09:23.721739Z",
     "start_time": "2023-04-20T02:09:23.709073Z"
    }
   },
   "outputs": [
    {
     "name": "stdout",
     "output_type": "stream",
     "text": [
      "<class 'pandas.core.frame.DataFrame'>\n",
      "RangeIndex: 517 entries, 0 to 516\n",
      "Data columns (total 31 columns):\n",
      " #   Column         Non-Null Count  Dtype  \n",
      "---  ------         --------------  -----  \n",
      " 0   month          517 non-null    int64  \n",
      " 1   day            517 non-null    int64  \n",
      " 2   FFMC           517 non-null    float64\n",
      " 3   DMC            517 non-null    float64\n",
      " 4   DC             517 non-null    float64\n",
      " 5   ISI            517 non-null    float64\n",
      " 6   temp           517 non-null    float64\n",
      " 7   RH             517 non-null    int64  \n",
      " 8   wind           517 non-null    float64\n",
      " 9   rain           517 non-null    float64\n",
      " 10  area           517 non-null    float64\n",
      " 11  dayfri         517 non-null    int64  \n",
      " 12  daymon         517 non-null    int64  \n",
      " 13  daysat         517 non-null    int64  \n",
      " 14  daysun         517 non-null    int64  \n",
      " 15  daythu         517 non-null    int64  \n",
      " 16  daytue         517 non-null    int64  \n",
      " 17  daywed         517 non-null    int64  \n",
      " 18  monthapr       517 non-null    int64  \n",
      " 19  monthaug       517 non-null    int64  \n",
      " 20  monthdec       517 non-null    int64  \n",
      " 21  monthfeb       517 non-null    int64  \n",
      " 22  monthjan       517 non-null    int64  \n",
      " 23  monthjul       517 non-null    int64  \n",
      " 24  monthjun       517 non-null    int64  \n",
      " 25  monthmar       517 non-null    int64  \n",
      " 26  monthmay       517 non-null    int64  \n",
      " 27  monthnov       517 non-null    int64  \n",
      " 28  monthoct       517 non-null    int64  \n",
      " 29  monthsep       517 non-null    int64  \n",
      " 30  size_category  517 non-null    object \n",
      "dtypes: float64(8), int64(22), object(1)\n",
      "memory usage: 125.3+ KB\n"
     ]
    }
   ],
   "source": [
    "dataframe.info()"
   ]
  },
  {
   "cell_type": "code",
   "execution_count": 4,
   "id": "4138fc0d",
   "metadata": {
    "ExecuteTime": {
     "end_time": "2023-04-20T02:09:44.963338Z",
     "start_time": "2023-04-20T02:09:44.948665Z"
    }
   },
   "outputs": [],
   "source": [
    "dataframe.drop('monthaug',axis='columns', inplace=True)\n",
    "dataframe.drop('monthdec',axis='columns', inplace=True)\n",
    "dataframe.drop('monthfeb',axis='columns', inplace=True)\n",
    "dataframe.drop('monthjan',axis='columns', inplace=True)\n",
    "dataframe.drop('monthjul',axis='columns', inplace=True)\n",
    "dataframe.drop('monthjun',axis='columns', inplace=True)\n",
    "dataframe.drop('monthmar',axis='columns', inplace=True)\n",
    "dataframe.drop('monthmay',axis='columns', inplace=True)\n",
    "dataframe.drop('monthnov',axis='columns', inplace=True)\n",
    "dataframe.drop('monthoct',axis='columns', inplace=True)\n",
    "dataframe.drop('monthsep',axis='columns', inplace=True)"
   ]
  },
  {
   "cell_type": "code",
   "execution_count": 5,
   "id": "a63064d0",
   "metadata": {
    "ExecuteTime": {
     "end_time": "2023-04-20T02:09:56.720159Z",
     "start_time": "2023-04-20T02:09:56.710130Z"
    }
   },
   "outputs": [
    {
     "name": "stdout",
     "output_type": "stream",
     "text": [
      "<class 'pandas.core.frame.DataFrame'>\n",
      "RangeIndex: 517 entries, 0 to 516\n",
      "Data columns (total 20 columns):\n",
      " #   Column         Non-Null Count  Dtype  \n",
      "---  ------         --------------  -----  \n",
      " 0   month          517 non-null    int64  \n",
      " 1   day            517 non-null    int64  \n",
      " 2   FFMC           517 non-null    float64\n",
      " 3   DMC            517 non-null    float64\n",
      " 4   DC             517 non-null    float64\n",
      " 5   ISI            517 non-null    float64\n",
      " 6   temp           517 non-null    float64\n",
      " 7   RH             517 non-null    int64  \n",
      " 8   wind           517 non-null    float64\n",
      " 9   rain           517 non-null    float64\n",
      " 10  area           517 non-null    float64\n",
      " 11  dayfri         517 non-null    int64  \n",
      " 12  daymon         517 non-null    int64  \n",
      " 13  daysat         517 non-null    int64  \n",
      " 14  daysun         517 non-null    int64  \n",
      " 15  daythu         517 non-null    int64  \n",
      " 16  daytue         517 non-null    int64  \n",
      " 17  daywed         517 non-null    int64  \n",
      " 18  monthapr       517 non-null    int64  \n",
      " 19  size_category  517 non-null    object \n",
      "dtypes: float64(8), int64(11), object(1)\n",
      "memory usage: 80.9+ KB\n"
     ]
    }
   ],
   "source": [
    "dataframe.info()"
   ]
  },
  {
   "cell_type": "code",
   "execution_count": 6,
   "id": "913330f6",
   "metadata": {
    "ExecuteTime": {
     "end_time": "2023-04-20T02:10:08.608096Z",
     "start_time": "2023-04-20T02:10:08.600718Z"
    }
   },
   "outputs": [],
   "source": [
    "dataframe.drop('daysat',axis='columns', inplace=True)\n",
    "dataframe.drop('daysun',axis='columns', inplace=True)\n",
    "dataframe.drop('daythu',axis='columns', inplace=True)\n",
    "dataframe.drop('daytue',axis='columns', inplace=True)\n",
    "dataframe.drop('daywed',axis='columns', inplace=True)\n",
    "dataframe.drop('monthapr',axis='columns', inplace=True)"
   ]
  },
  {
   "cell_type": "code",
   "execution_count": 7,
   "id": "7a44a0bf",
   "metadata": {
    "ExecuteTime": {
     "end_time": "2023-04-20T02:10:16.104481Z",
     "start_time": "2023-04-20T02:10:16.094521Z"
    }
   },
   "outputs": [
    {
     "name": "stdout",
     "output_type": "stream",
     "text": [
      "<class 'pandas.core.frame.DataFrame'>\n",
      "RangeIndex: 517 entries, 0 to 516\n",
      "Data columns (total 14 columns):\n",
      " #   Column         Non-Null Count  Dtype  \n",
      "---  ------         --------------  -----  \n",
      " 0   month          517 non-null    int64  \n",
      " 1   day            517 non-null    int64  \n",
      " 2   FFMC           517 non-null    float64\n",
      " 3   DMC            517 non-null    float64\n",
      " 4   DC             517 non-null    float64\n",
      " 5   ISI            517 non-null    float64\n",
      " 6   temp           517 non-null    float64\n",
      " 7   RH             517 non-null    int64  \n",
      " 8   wind           517 non-null    float64\n",
      " 9   rain           517 non-null    float64\n",
      " 10  area           517 non-null    float64\n",
      " 11  dayfri         517 non-null    int64  \n",
      " 12  daymon         517 non-null    int64  \n",
      " 13  size_category  517 non-null    object \n",
      "dtypes: float64(8), int64(5), object(1)\n",
      "memory usage: 56.7+ KB\n"
     ]
    }
   ],
   "source": [
    "dataframe.info()"
   ]
  },
  {
   "cell_type": "code",
   "execution_count": 8,
   "id": "a75a8f38",
   "metadata": {
    "ExecuteTime": {
     "end_time": "2023-04-20T02:10:24.163146Z",
     "start_time": "2023-04-20T02:10:24.153446Z"
    }
   },
   "outputs": [
    {
     "name": "stdout",
     "output_type": "stream",
     "text": [
      "Head:    month  day  FFMC   DMC     DC  ISI  temp  RH  wind  rain  area  dayfri  \\\n",
      "0      3    5  86.2  26.2   94.3  5.1   8.2  51   6.7   0.0   0.0       1   \n",
      "1     10    2  90.6  35.4  669.1  6.7  18.0  33   0.9   0.0   0.0       0   \n",
      "2     10    6  90.6  43.7  686.9  6.7  14.6  33   1.3   0.0   0.0       0   \n",
      "3      3    5  91.7  33.3   77.5  9.0   8.3  97   4.0   0.2   0.0       1   \n",
      "4      3    7  89.3  51.3  102.2  9.6  11.4  99   1.8   0.0   0.0       0   \n",
      "\n",
      "   daymon size_category  \n",
      "0       0         small  \n",
      "1       0         small  \n",
      "2       0         small  \n",
      "3       0         small  \n",
      "4       0         small  \n"
     ]
    }
   ],
   "source": [
    "print(\"Head:\", dataframe.head())"
   ]
  },
  {
   "cell_type": "code",
   "execution_count": 9,
   "id": "7a7992ec",
   "metadata": {
    "ExecuteTime": {
     "end_time": "2023-04-20T02:10:33.575660Z",
     "start_time": "2023-04-20T02:10:33.569865Z"
    }
   },
   "outputs": [],
   "source": [
    "df=pd.get_dummies(dataframe,columns=['size_category'], drop_first=True)"
   ]
  },
  {
   "cell_type": "code",
   "execution_count": 10,
   "id": "9c7dc980",
   "metadata": {
    "ExecuteTime": {
     "end_time": "2023-04-20T02:10:40.272371Z",
     "start_time": "2023-04-20T02:10:40.261999Z"
    }
   },
   "outputs": [
    {
     "name": "stdout",
     "output_type": "stream",
     "text": [
      "   month  day  FFMC   DMC     DC  ISI  temp  RH  wind  rain  area  dayfri  \\\n",
      "0      3    5  86.2  26.2   94.3  5.1   8.2  51   6.7   0.0   0.0       1   \n",
      "1     10    2  90.6  35.4  669.1  6.7  18.0  33   0.9   0.0   0.0       0   \n",
      "2     10    6  90.6  43.7  686.9  6.7  14.6  33   1.3   0.0   0.0       0   \n",
      "3      3    5  91.7  33.3   77.5  9.0   8.3  97   4.0   0.2   0.0       1   \n",
      "4      3    7  89.3  51.3  102.2  9.6  11.4  99   1.8   0.0   0.0       0   \n",
      "\n",
      "   daymon  size_category_small  \n",
      "0       0                    1  \n",
      "1       0                    1  \n",
      "2       0                    1  \n",
      "3       0                    1  \n",
      "4       0                    1  \n"
     ]
    }
   ],
   "source": [
    "print(df.head())"
   ]
  },
  {
   "cell_type": "code",
   "execution_count": 11,
   "id": "8d59f3b4",
   "metadata": {
    "ExecuteTime": {
     "end_time": "2023-04-20T02:10:48.383264Z",
     "start_time": "2023-04-20T02:10:48.379541Z"
    }
   },
   "outputs": [
    {
     "name": "stdout",
     "output_type": "stream",
     "text": [
      "Shape: (517, 14)\n"
     ]
    }
   ],
   "source": [
    "print(\"Shape:\", dataframe.shape)"
   ]
  },
  {
   "cell_type": "code",
   "execution_count": 12,
   "id": "df250444",
   "metadata": {
    "ExecuteTime": {
     "end_time": "2023-04-20T02:10:58.894119Z",
     "start_time": "2023-04-20T02:10:58.805629Z"
    }
   },
   "outputs": [
    {
     "data": {
      "text/plain": [
       "<AxesSubplot:xlabel='month'>"
      ]
     },
     "execution_count": 12,
     "metadata": {},
     "output_type": "execute_result"
    },
    {
     "data": {
      "image/png": "[encoded data removed]",
      "text/plain": [
       "<Figure size 432x288 with 1 Axes>"
      ]
     },
     "metadata": {
      "needs_background": "light"
     },
     "output_type": "display_data"
    }
   ],
   "source": [
    "dataframe.groupby('month').FFMC.mean().plot(kind='bar')"
   ]
  },
  {
   "cell_type": "code",
   "execution_count": 13,
   "id": "d7447d3a",
   "metadata": {
    "ExecuteTime": {
     "end_time": "2023-04-20T02:11:07.919600Z",
     "start_time": "2023-04-20T02:11:07.855513Z"
    }
   },
   "outputs": [
    {
     "data": {
      "text/plain": [
       "<AxesSubplot:xlabel='day'>"
      ]
     },
     "execution_count": 13,
     "metadata": {},
     "output_type": "execute_result"
    },
    {
     "data": {
      "image/png": "[encoded data removed]",
      "text/plain": [
       "<Figure size 432x288 with 1 Axes>"
      ]
     },
     "metadata": {
      "needs_background": "light"
     },
     "output_type": "display_data"
    }
   ],
   "source": [
    "dataframe.groupby('day').FFMC.mean().plot(kind='bar')"
   ]
  },
  {
   "cell_type": "code",
   "execution_count": 14,
   "id": "e21850df",
   "metadata": {
    "ExecuteTime": {
     "end_time": "2023-04-20T02:11:20.160644Z",
     "start_time": "2023-04-20T02:11:20.084854Z"
    }
   },
   "outputs": [
    {
     "data": {
      "text/plain": [
       "<AxesSubplot:xlabel='month'>"
      ]
     },
     "execution_count": 14,
     "metadata": {},
     "output_type": "execute_result"
    },
    {
     "data": {
      "image/png": "[encoded data removed]",
      "text/plain": [
       "<Figure size 432x288 with 1 Axes>"
      ]
     },
     "metadata": {
      "needs_background": "light"
     },
     "output_type": "display_data"
    }
   ],
   "source": [
    "dataframe.groupby('month').DMC.mean().plot(kind='bar')"
   ]
  },
  {
   "cell_type": "code",
   "execution_count": 15,
   "id": "13774d05",
   "metadata": {
    "ExecuteTime": {
     "end_time": "2023-04-20T02:11:48.560084Z",
     "start_time": "2023-04-20T02:11:48.484677Z"
    }
   },
   "outputs": [
    {
     "data": {
      "text/plain": [
       "<AxesSubplot:xlabel='month'>"
      ]
     },
     "execution_count": 15,
     "metadata": {},
     "output_type": "execute_result"
    },
    {
     "data": {
      "image/png": "[encoded data removed]",
      "text/plain": [
       "<Figure size 432x288 with 1 Axes>"
      ]
     },
     "metadata": {
      "needs_background": "light"
     },
     "output_type": "display_data"
    }
   ],
   "source": [
    "dataframe.groupby('month').DC.mean().plot(kind='bar')"
   ]
  },
  {
   "cell_type": "code",
   "execution_count": 16,
   "id": "454f2162",
   "metadata": {
    "ExecuteTime": {
     "end_time": "2023-04-20T02:11:59.907632Z",
     "start_time": "2023-04-20T02:11:59.831062Z"
    }
   },
   "outputs": [
    {
     "data": {
      "text/plain": [
       "<AxesSubplot:xlabel='month'>"
      ]
     },
     "execution_count": 16,
     "metadata": {},
     "output_type": "execute_result"
    },
    {
     "data": {
      "image/png": "[encoded data removed]",
      "text/plain": [
       "<Figure size 432x288 with 1 Axes>"
      ]
     },
     "metadata": {
      "needs_background": "light"
     },
     "output_type": "display_data"
    }
   ],
   "source": [
    "dataframe.groupby('month').ISI.mean().plot(kind='bar')"
   ]
  },
  {
   "cell_type": "code",
   "execution_count": 17,
   "id": "4b95d243",
   "metadata": {
    "ExecuteTime": {
     "end_time": "2023-04-20T02:12:08.248785Z",
     "start_time": "2023-04-20T02:12:08.177260Z"
    }
   },
   "outputs": [
    {
     "data": {
      "text/plain": [
       "<AxesSubplot:xlabel='month'>"
      ]
     },
     "execution_count": 17,
     "metadata": {},
     "output_type": "execute_result"
    },
    {
     "data": {
      "image/png": "[encoded data removed]",
      "text/plain": [
       "<Figure size 432x288 with 1 Axes>"
      ]
     },
     "metadata": {
      "needs_background": "light"
     },
     "output_type": "display_data"
    }
   ],
   "source": [
    "dataframe.groupby('month').temp.mean().plot(kind='bar')"
   ]
  },
  {
   "cell_type": "code",
   "execution_count": 18,
   "id": "ca71ab76",
   "metadata": {
    "ExecuteTime": {
     "end_time": "2023-04-20T02:12:15.772953Z",
     "start_time": "2023-04-20T02:12:15.701403Z"
    }
   },
   "outputs": [
    {
     "data": {
      "text/plain": [
       "<AxesSubplot:xlabel='month'>"
      ]
     },
     "execution_count": 18,
     "metadata": {},
     "output_type": "execute_result"
    },
    {
     "data": {
      "image/png": "[encoded data removed]",
      "text/plain": [
       "<Figure size 432x288 with 1 Axes>"
      ]
     },
     "metadata": {
      "needs_background": "light"
     },
     "output_type": "display_data"
    }
   ],
   "source": [
    "dataframe.groupby('month').RH.mean().plot(kind='bar')"
   ]
  },
  {
   "cell_type": "code",
   "execution_count": 19,
   "id": "54a0993d",
   "metadata": {
    "ExecuteTime": {
     "end_time": "2023-04-20T02:12:25.545488Z",
     "start_time": "2023-04-20T02:12:25.464456Z"
    }
   },
   "outputs": [
    {
     "data": {
      "text/plain": [
       "<AxesSubplot:xlabel='month'>"
      ]
     },
     "execution_count": 19,
     "metadata": {},
     "output_type": "execute_result"
    },
    {
     "data": {
      "image/png": "[encoded data removed]",
      "text/plain": [
       "<Figure size 432x288 with 1 Axes>"
      ]
     },
     "metadata": {
      "needs_background": "light"
     },
     "output_type": "display_data"
    }
   ],
   "source": [
    "dataframe.groupby('month').wind.mean().plot(kind='bar')"
   ]
  },
  {
   "cell_type": "code",
   "execution_count": 20,
   "id": "41aa5b1b",
   "metadata": {
    "ExecuteTime": {
     "end_time": "2023-04-20T02:12:33.616575Z",
     "start_time": "2023-04-20T02:12:33.540471Z"
    }
   },
   "outputs": [
    {
     "data": {
      "text/plain": [
       "<AxesSubplot:xlabel='month'>"
      ]
     },
     "execution_count": 20,
     "metadata": {},
     "output_type": "execute_result"
    },
    {
     "data": {
      "image/png": "[encoded data removed]",
      "text/plain": [
       "<Figure size 432x288 with 1 Axes>"
      ]
     },
     "metadata": {
      "needs_background": "light"
     },
     "output_type": "display_data"
    }
   ],
   "source": [
    "dataframe.groupby('month').rain.mean().plot(kind='bar')"
   ]
  },
  {
   "cell_type": "code",
   "execution_count": 21,
   "id": "cdba5dc1",
   "metadata": {
    "ExecuteTime": {
     "end_time": "2023-04-20T02:12:41.580104Z",
     "start_time": "2023-04-20T02:12:41.496062Z"
    }
   },
   "outputs": [
    {
     "data": {
      "text/plain": [
       "<AxesSubplot:xlabel='month'>"
      ]
     },
     "execution_count": 21,
     "metadata": {},
     "output_type": "execute_result"
    },
    {
     "data": {
      "image/png": "[encoded data removed]",
      "text/plain": [
       "<Figure size 432x288 with 1 Axes>"
      ]
     },
     "metadata": {
      "needs_background": "light"
     },
     "output_type": "display_data"
    }
   ],
   "source": [
    "dataframe.groupby('month').area.mean().plot(kind='bar')"
   ]
  },
  {
   "cell_type": "code",
   "execution_count": 22,
   "id": "ddf43a30",
   "metadata": {
    "ExecuteTime": {
     "end_time": "2023-04-20T02:14:26.827141Z",
     "start_time": "2023-04-20T02:14:26.438598Z"
    }
   },
   "outputs": [],
   "source": [
    "from sklearn.model_selection import train_test_split\n",
    "X = dataframe[['FFMC', 'DMC']]\n",
    "Y = dataframe['month']\n",
    "X_train, a_test, Y_train, b_test = train_test_split(X, Y, test_size=0.2, random_state=0)"
   ]
  },
  {
   "cell_type": "code",
   "execution_count": 24,
   "id": "00fc5cea",
   "metadata": {
    "ExecuteTime": {
     "end_time": "2023-04-20T02:15:23.601154Z",
     "start_time": "2023-04-20T02:15:23.579254Z"
    }
   },
   "outputs": [
    {
     "name": "stdout",
     "output_type": "stream",
     "text": [
      "0.6442307692307693\n"
     ]
    }
   ],
   "source": [
    "from sklearn.svm import SVC\n",
    "classifier = SVC()\n",
    "classifier.fit(X_train, Y_train)\n",
    "score = classifier.score(a_test, b_test)\n",
    "print(score)"
   ]
  },
  {
   "cell_type": "code",
   "execution_count": 26,
   "id": "9d113a60",
   "metadata": {
    "ExecuteTime": {
     "end_time": "2023-04-20T02:16:12.673575Z",
     "start_time": "2023-04-20T02:16:12.652225Z"
    }
   },
   "outputs": [
    {
     "data": {
      "text/html": [
       "<div>\n",
       "<style scoped>\n",
       "    .dataframe tbody tr th:only-of-type {\n",
       "        vertical-align: middle;\n",
       "    }\n",
       "\n",
       "    .dataframe tbody tr th {\n",
       "        vertical-align: top;\n",
       "    }\n",
       "\n",
       "    .dataframe thead th {\n",
       "        text-align: right;\n",
       "    }\n",
       "</style>\n",
       "<table border=\"1\" class=\"dataframe\">\n",
       "  <thead>\n",
       "    <tr style=\"text-align: right;\">\n",
       "      <th></th>\n",
       "      <th>month</th>\n",
       "      <th>day</th>\n",
       "      <th>FFMC</th>\n",
       "      <th>DMC</th>\n",
       "      <th>DC</th>\n",
       "      <th>ISI</th>\n",
       "      <th>temp</th>\n",
       "      <th>RH</th>\n",
       "      <th>wind</th>\n",
       "      <th>rain</th>\n",
       "      <th>area</th>\n",
       "      <th>dayfri</th>\n",
       "      <th>daymon</th>\n",
       "    </tr>\n",
       "  </thead>\n",
       "  <tbody>\n",
       "    <tr>\n",
       "      <th>month</th>\n",
       "      <td>1.000000</td>\n",
       "      <td>-0.050837</td>\n",
       "      <td>0.291477</td>\n",
       "      <td>0.466645</td>\n",
       "      <td>0.868698</td>\n",
       "      <td>0.186597</td>\n",
       "      <td>0.368842</td>\n",
       "      <td>-0.095280</td>\n",
       "      <td>-0.086368</td>\n",
       "      <td>0.013438</td>\n",
       "      <td>0.056496</td>\n",
       "      <td>-0.028562</td>\n",
       "      <td>-0.002941</td>\n",
       "    </tr>\n",
       "    <tr>\n",
       "      <th>day</th>\n",
       "      <td>-0.050837</td>\n",
       "      <td>1.000000</td>\n",
       "      <td>-0.041068</td>\n",
       "      <td>0.062870</td>\n",
       "      <td>0.000105</td>\n",
       "      <td>0.032909</td>\n",
       "      <td>0.052190</td>\n",
       "      <td>0.092151</td>\n",
       "      <td>0.032478</td>\n",
       "      <td>-0.048340</td>\n",
       "      <td>0.023226</td>\n",
       "      <td>0.158676</td>\n",
       "      <td>-0.643220</td>\n",
       "    </tr>\n",
       "    <tr>\n",
       "      <th>FFMC</th>\n",
       "      <td>0.291477</td>\n",
       "      <td>-0.041068</td>\n",
       "      <td>1.000000</td>\n",
       "      <td>0.382619</td>\n",
       "      <td>0.330512</td>\n",
       "      <td>0.531805</td>\n",
       "      <td>0.431532</td>\n",
       "      <td>-0.300995</td>\n",
       "      <td>-0.028485</td>\n",
       "      <td>0.056702</td>\n",
       "      <td>0.040122</td>\n",
       "      <td>0.019306</td>\n",
       "      <td>-0.059396</td>\n",
       "    </tr>\n",
       "    <tr>\n",
       "      <th>DMC</th>\n",
       "      <td>0.466645</td>\n",
       "      <td>0.062870</td>\n",
       "      <td>0.382619</td>\n",
       "      <td>1.000000</td>\n",
       "      <td>0.682192</td>\n",
       "      <td>0.305128</td>\n",
       "      <td>0.469594</td>\n",
       "      <td>0.073795</td>\n",
       "      <td>-0.105342</td>\n",
       "      <td>0.074790</td>\n",
       "      <td>0.072994</td>\n",
       "      <td>-0.012010</td>\n",
       "      <td>-0.107921</td>\n",
       "    </tr>\n",
       "    <tr>\n",
       "      <th>DC</th>\n",
       "      <td>0.868698</td>\n",
       "      <td>0.000105</td>\n",
       "      <td>0.330512</td>\n",
       "      <td>0.682192</td>\n",
       "      <td>1.000000</td>\n",
       "      <td>0.229154</td>\n",
       "      <td>0.496208</td>\n",
       "      <td>-0.039192</td>\n",
       "      <td>-0.203466</td>\n",
       "      <td>0.035861</td>\n",
       "      <td>0.049383</td>\n",
       "      <td>-0.004220</td>\n",
       "      <td>-0.052993</td>\n",
       "    </tr>\n",
       "    <tr>\n",
       "      <th>ISI</th>\n",
       "      <td>0.186597</td>\n",
       "      <td>0.032909</td>\n",
       "      <td>0.531805</td>\n",
       "      <td>0.305128</td>\n",
       "      <td>0.229154</td>\n",
       "      <td>1.000000</td>\n",
       "      <td>0.394287</td>\n",
       "      <td>-0.132517</td>\n",
       "      <td>0.106826</td>\n",
       "      <td>0.067668</td>\n",
       "      <td>0.008258</td>\n",
       "      <td>0.046695</td>\n",
       "      <td>-0.158601</td>\n",
       "    </tr>\n",
       "    <tr>\n",
       "      <th>temp</th>\n",
       "      <td>0.368842</td>\n",
       "      <td>0.052190</td>\n",
       "      <td>0.431532</td>\n",
       "      <td>0.469594</td>\n",
       "      <td>0.496208</td>\n",
       "      <td>0.394287</td>\n",
       "      <td>1.000000</td>\n",
       "      <td>-0.527390</td>\n",
       "      <td>-0.227116</td>\n",
       "      <td>0.069491</td>\n",
       "      <td>0.097844</td>\n",
       "      <td>-0.071949</td>\n",
       "      <td>-0.136529</td>\n",
       "    </tr>\n",
       "    <tr>\n",
       "      <th>RH</th>\n",
       "      <td>-0.095280</td>\n",
       "      <td>0.092151</td>\n",
       "      <td>-0.300995</td>\n",
       "      <td>0.073795</td>\n",
       "      <td>-0.039192</td>\n",
       "      <td>-0.132517</td>\n",
       "      <td>-0.527390</td>\n",
       "      <td>1.000000</td>\n",
       "      <td>0.069410</td>\n",
       "      <td>0.099751</td>\n",
       "      <td>-0.075519</td>\n",
       "      <td>0.064506</td>\n",
       "      <td>0.009376</td>\n",
       "    </tr>\n",
       "    <tr>\n",
       "      <th>wind</th>\n",
       "      <td>-0.086368</td>\n",
       "      <td>0.032478</td>\n",
       "      <td>-0.028485</td>\n",
       "      <td>-0.105342</td>\n",
       "      <td>-0.203466</td>\n",
       "      <td>0.106826</td>\n",
       "      <td>-0.227116</td>\n",
       "      <td>0.069410</td>\n",
       "      <td>1.000000</td>\n",
       "      <td>0.061119</td>\n",
       "      <td>0.012317</td>\n",
       "      <td>0.118090</td>\n",
       "      <td>-0.063881</td>\n",
       "    </tr>\n",
       "    <tr>\n",
       "      <th>rain</th>\n",
       "      <td>0.013438</td>\n",
       "      <td>-0.048340</td>\n",
       "      <td>0.056702</td>\n",
       "      <td>0.074790</td>\n",
       "      <td>0.035861</td>\n",
       "      <td>0.067668</td>\n",
       "      <td>0.069491</td>\n",
       "      <td>0.099751</td>\n",
       "      <td>0.061119</td>\n",
       "      <td>1.000000</td>\n",
       "      <td>-0.007366</td>\n",
       "      <td>-0.004261</td>\n",
       "      <td>-0.029945</td>\n",
       "    </tr>\n",
       "    <tr>\n",
       "      <th>area</th>\n",
       "      <td>0.056496</td>\n",
       "      <td>0.023226</td>\n",
       "      <td>0.040122</td>\n",
       "      <td>0.072994</td>\n",
       "      <td>0.049383</td>\n",
       "      <td>0.008258</td>\n",
       "      <td>0.097844</td>\n",
       "      <td>-0.075519</td>\n",
       "      <td>0.012317</td>\n",
       "      <td>-0.007366</td>\n",
       "      <td>1.000000</td>\n",
       "      <td>-0.052911</td>\n",
       "      <td>-0.021206</td>\n",
       "    </tr>\n",
       "    <tr>\n",
       "      <th>dayfri</th>\n",
       "      <td>-0.028562</td>\n",
       "      <td>0.158676</td>\n",
       "      <td>0.019306</td>\n",
       "      <td>-0.012010</td>\n",
       "      <td>-0.004220</td>\n",
       "      <td>0.046695</td>\n",
       "      <td>-0.071949</td>\n",
       "      <td>0.064506</td>\n",
       "      <td>0.118090</td>\n",
       "      <td>-0.004261</td>\n",
       "      <td>-0.052911</td>\n",
       "      <td>1.000000</td>\n",
       "      <td>-0.181293</td>\n",
       "    </tr>\n",
       "    <tr>\n",
       "      <th>daymon</th>\n",
       "      <td>-0.002941</td>\n",
       "      <td>-0.643220</td>\n",
       "      <td>-0.059396</td>\n",
       "      <td>-0.107921</td>\n",
       "      <td>-0.052993</td>\n",
       "      <td>-0.158601</td>\n",
       "      <td>-0.136529</td>\n",
       "      <td>0.009376</td>\n",
       "      <td>-0.063881</td>\n",
       "      <td>-0.029945</td>\n",
       "      <td>-0.021206</td>\n",
       "      <td>-0.181293</td>\n",
       "      <td>1.000000</td>\n",
       "    </tr>\n",
       "  </tbody>\n",
       "</table>\n",
       "</div>"
      ],
      "text/plain": [
       "           month       day      FFMC       DMC        DC       ISI      temp  \\\n",
       "month   1.000000 -0.050837  0.291477  0.466645  0.868698  0.186597  0.368842   \n",
       "day    -0.050837  1.000000 -0.041068  0.062870  0.000105  0.032909  0.052190   \n",
       "FFMC    0.291477 -0.041068  1.000000  0.382619  0.330512  0.531805  0.431532   \n",
       "DMC     0.466645  0.062870  0.382619  1.000000  0.682192  0.305128  0.469594   \n",
       "DC      0.868698  0.000105  0.330512  0.682192  1.000000  0.229154  0.496208   \n",
       "ISI     0.186597  0.032909  0.531805  0.305128  0.229154  1.000000  0.394287   \n",
       "temp    0.368842  0.052190  0.431532  0.469594  0.496208  0.394287  1.000000   \n",
       "RH     -0.095280  0.092151 -0.300995  0.073795 -0.039192 -0.132517 -0.527390   \n",
       "wind   -0.086368  0.032478 -0.028485 -0.105342 -0.203466  0.106826 -0.227116   \n",
       "rain    0.013438 -0.048340  0.056702  0.074790  0.035861  0.067668  0.069491   \n",
       "area    0.056496  0.023226  0.040122  0.072994  0.049383  0.008258  0.097844   \n",
       "dayfri -0.028562  0.158676  0.019306 -0.012010 -0.004220  0.046695 -0.071949   \n",
       "daymon -0.002941 -0.643220 -0.059396 -0.107921 -0.052993 -0.158601 -0.136529   \n",
       "\n",
       "              RH      wind      rain      area    dayfri    daymon  \n",
       "month  -0.095280 -0.086368  0.013438  0.056496 -0.028562 -0.002941  \n",
       "day     0.092151  0.032478 -0.048340  0.023226  0.158676 -0.643220  \n",
       "FFMC   -0.300995 -0.028485  0.056702  0.040122  0.019306 -0.059396  \n",
       "DMC     0.073795 -0.105342  0.074790  0.072994 -0.012010 -0.107921  \n",
       "DC     -0.039192 -0.203466  0.035861  0.049383 -0.004220 -0.052993  \n",
       "ISI    -0.132517  0.106826  0.067668  0.008258  0.046695 -0.158601  \n",
       "temp   -0.527390 -0.227116  0.069491  0.097844 -0.071949 -0.136529  \n",
       "RH      1.000000  0.069410  0.099751 -0.075519  0.064506  0.009376  \n",
       "wind    0.069410  1.000000  0.061119  0.012317  0.118090 -0.063881  \n",
       "rain    0.099751  0.061119  1.000000 -0.007366 -0.004261 -0.029945  \n",
       "area   -0.075519  0.012317 -0.007366  1.000000 -0.052911 -0.021206  \n",
       "dayfri  0.064506  0.118090 -0.004261 -0.052911  1.000000 -0.181293  \n",
       "daymon  0.009376 -0.063881 -0.029945 -0.021206 -0.181293  1.000000  "
      ]
     },
     "execution_count": 26,
     "metadata": {},
     "output_type": "execute_result"
    }
   ],
   "source": [
    "co=dataframe.corr()\n",
    "co"
   ]
  },
  {
   "cell_type": "code",
   "execution_count": 27,
   "id": "a6d83411",
   "metadata": {
    "ExecuteTime": {
     "end_time": "2023-04-20T02:16:34.091718Z",
     "start_time": "2023-04-20T02:16:33.762178Z"
    }
   },
   "outputs": [
    {
     "data": {
      "image/png": "[encoded data removed]",
      "text/plain": [
       "<Figure size 864x648 with 2 Axes>"
      ]
     },
     "metadata": {
      "needs_background": "light"
     },
     "output_type": "display_data"
    }
   ],
   "source": [
    "import seaborn as sns\n",
    "import matplotlib.pyplot as pplt\n",
    "corrmat = dataframe.corr()\n",
    "f, ax = pplt.subplots(figsize=(12, 9))\n",
    "sns.heatmap(corrmat, annot=True, vmax=.8, square=True, annot_kws={\"size\": 8}, linewidths=.5);"
   ]
  },
  {
   "cell_type": "code",
   "execution_count": 29,
   "id": "291d8e46",
   "metadata": {
    "ExecuteTime": {
     "end_time": "2023-04-20T02:16:53.856408Z",
     "start_time": "2023-04-20T02:16:53.693187Z"
    }
   },
   "outputs": [
    {
     "data": {
      "image/png": "[encoded data removed]",
      "text/plain": [
       "<Figure size 432x288 with 2 Axes>"
      ]
     },
     "metadata": {},
     "output_type": "display_data"
    }
   ],
   "source": [
    "k = 8\n",
    "cols = corrmat.nlargest(k, 'month')['month'].index\n",
    "cm = np.corrcoef(dataframe[cols].values.T)\n",
    "sns.set(font_scale=1.25)\n",
    "hm = sns.heatmap(cm, cbar=True, annot=True, square=True, fmt='.2f', annot_kws={'size': 10}, yticklabels=cols.values, xticklabels=cols.values)\n",
    "pplt.show()"
   ]
  },
  {
   "cell_type": "code",
   "execution_count": 31,
   "id": "bd6091b0",
   "metadata": {
    "ExecuteTime": {
     "end_time": "2023-04-20T02:17:37.062197Z",
     "start_time": "2023-04-20T02:17:37.056842Z"
    }
   },
   "outputs": [],
   "source": [
    "X = dataframe[['DC', 'ISI']]\n",
    "Y = dataframe['month']\n",
    "X_train, a_test, Y_train, b_test = train_test_split(X, Y, test_size=0.2, random_state=0)"
   ]
  },
  {
   "cell_type": "code",
   "execution_count": 32,
   "id": "82b2bc61",
   "metadata": {
    "ExecuteTime": {
     "end_time": "2023-04-20T02:18:04.910518Z",
     "start_time": "2023-04-20T02:18:04.892769Z"
    }
   },
   "outputs": [
    {
     "name": "stdout",
     "output_type": "stream",
     "text": [
      "0.8173076923076923\n"
     ]
    }
   ],
   "source": [
    "classifier = SVC()\n",
    "classifier.fit(X_train, Y_train)\n",
    "score = classifier.score(x_test, y_test)\n",
    "print(score)"
   ]
  },
  {
   "cell_type": "code",
   "execution_count": 33,
   "id": "7dfa335a",
   "metadata": {
    "ExecuteTime": {
     "end_time": "2023-04-20T02:18:45.899277Z",
     "start_time": "2023-04-20T02:18:45.893563Z"
    }
   },
   "outputs": [],
   "source": [
    "X = dataframe[['FFMC', 'DMC', 'DC', 'temp']]\n",
    "Y = dataframe['month']\n",
    "X_train, a_test, Y_train, b_test = train_test_split(X, Y, test_size=0.2, random_state=0) "
   ]
  },
  {
   "cell_type": "code",
   "execution_count": 34,
   "id": "1ba5a0e6",
   "metadata": {
    "ExecuteTime": {
     "end_time": "2023-04-20T02:19:30.311675Z",
     "start_time": "2023-04-20T02:19:30.294135Z"
    }
   },
   "outputs": [
    {
     "name": "stdout",
     "output_type": "stream",
     "text": [
      "0.7980769230769231\n"
     ]
    }
   ],
   "source": [
    "classifier = SVC()\n",
    "classifier.fit(X_train, Y_train)\n",
    "score = classifier.score(a_test, b_test) \n",
    "print(score)"
   ]
  },
  {
   "cell_type": "code",
   "execution_count": 35,
   "id": "78d46b30",
   "metadata": {
    "ExecuteTime": {
     "end_time": "2023-04-20T02:19:41.301004Z",
     "start_time": "2023-04-20T02:19:41.225718Z"
    }
   },
   "outputs": [
    {
     "data": {
      "text/plain": [
       "<AxesSubplot:xlabel='day'>"
      ]
     },
     "execution_count": 35,
     "metadata": {},
     "output_type": "execute_result"
    },
    {
     "data": {
      "image/png": "[encoded data removed]",
      "text/plain": [
       "<Figure size 432x288 with 1 Axes>"
      ]
     },
     "metadata": {},
     "output_type": "display_data"
    }
   ],
   "source": [
    "dataframe.groupby('day').FFMC.mean().plot(kind='bar')"
   ]
  },
  {
   "cell_type": "code",
   "execution_count": null,
   "id": "35f6b679",
   "metadata": {},
   "outputs": [],
   "source": []
  }
 ],
 "metadata": {
  "kernelspec": {
   "display_name": "Python 3 (ipykernel)",
   "language": "python",
   "name": "python3"
  },
  "language_info": {
   "codemirror_mode": {
    "name": "ipython",
    "version": 3
   },
   "file_extension": ".py",
   "mimetype": "text/x-python",
   "name": "python",
   "nbconvert_exporter": "python",
   "pygments_lexer": "ipython3",
   "version": "3.9.12"
  }
 },
 "nbformat": 4,
 "nbformat_minor": 5
}
